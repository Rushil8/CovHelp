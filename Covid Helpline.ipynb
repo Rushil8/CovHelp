{
 "cells": [
  {
   "cell_type": "markdown",
   "metadata": {},
   "source": [
    "# CovHelp - A Covid Helpline"
   ]
  },
  {
   "cell_type": "markdown",
   "metadata": {},
   "source": [
    "## Importing libraries"
   ]
  },
  {
   "cell_type": "code",
   "execution_count": 1,
   "metadata": {
    "scrolled": true
   },
   "outputs": [],
   "source": [
    "import random \n",
    "from sklearn.metrics.pairwise import cosine_similarity\n",
    "from sklearn.feature_extraction.text import TfidfVectorizer \n",
    "import requests\n",
    "import bs4\n",
    "import re\n",
    "import nltk\n",
    "import pandas as pd\n",
    "import io"
   ]
  },
  {
   "cell_type": "markdown",
   "metadata": {},
   "source": [
    "## Loading vaccination centre csv file "
   ]
  },
  {
   "cell_type": "code",
   "execution_count": 2,
   "metadata": {},
   "outputs": [
    {
     "data": {
      "text/html": [
       "<div>\n",
       "<style scoped>\n",
       "    .dataframe tbody tr th:only-of-type {\n",
       "        vertical-align: middle;\n",
       "    }\n",
       "\n",
       "    .dataframe tbody tr th {\n",
       "        vertical-align: top;\n",
       "    }\n",
       "\n",
       "    .dataframe thead th {\n",
       "        text-align: right;\n",
       "    }\n",
       "</style>\n",
       "<table border=\"1\" class=\"dataframe\">\n",
       "  <thead>\n",
       "    <tr style=\"text-align: right;\">\n",
       "      <th></th>\n",
       "      <th>Pin_code</th>\n",
       "      <th>Hospitals</th>\n",
       "      <th>Address</th>\n",
       "    </tr>\n",
       "  </thead>\n",
       "  <tbody>\n",
       "    <tr>\n",
       "      <th>0</th>\n",
       "      <td>201301</td>\n",
       "      <td>I Care Eye Hospital</td>\n",
       "      <td>Sector 26, Near Apollo Hospital, Noida</td>\n",
       "    </tr>\n",
       "    <tr>\n",
       "      <th>1</th>\n",
       "      <td>201301</td>\n",
       "      <td>Bhardwaj Hospital</td>\n",
       "      <td>Opp Botanical Gardens Metro Station, Sector 29...</td>\n",
       "    </tr>\n",
       "    <tr>\n",
       "      <th>2</th>\n",
       "      <td>201301</td>\n",
       "      <td>Noida Medicare Centre</td>\n",
       "      <td>16 C, Sector 30, Near Keerthi Gan Plaza, Noida</td>\n",
       "    </tr>\n",
       "    <tr>\n",
       "      <th>3</th>\n",
       "      <td>201301</td>\n",
       "      <td>Metro Hospital</td>\n",
       "      <td>Vyapar Marg, Buddha Vihar, Sector 12, Noida</td>\n",
       "    </tr>\n",
       "    <tr>\n",
       "      <th>4</th>\n",
       "      <td>201301</td>\n",
       "      <td>Prakash Hospital</td>\n",
       "      <td>D-12, Sector 33, Near Iskon Temple, Noida</td>\n",
       "    </tr>\n",
       "    <tr>\n",
       "      <th>5</th>\n",
       "      <td>110096</td>\n",
       "      <td>Dharamshila Hospital</td>\n",
       "      <td>Dharamshila Marg, Vasundhara Enclave, New Delhi</td>\n",
       "    </tr>\n",
       "    <tr>\n",
       "      <th>6</th>\n",
       "      <td>201307</td>\n",
       "      <td>Sumitra Hospital</td>\n",
       "      <td>A 119, Sector 35, Near City Center, Noida</td>\n",
       "    </tr>\n",
       "    <tr>\n",
       "      <th>7</th>\n",
       "      <td>110025</td>\n",
       "      <td>Alshifa Hospital</td>\n",
       "      <td>Okhla, Abul Fazal Enclave Part 1, Jamia Nagar,...</td>\n",
       "    </tr>\n",
       "    <tr>\n",
       "      <th>8</th>\n",
       "      <td>201307</td>\n",
       "      <td>Dipakshi Hospital</td>\n",
       "      <td>Sector 33, Udhayan Marg, NTPC Township, Shaury...</td>\n",
       "    </tr>\n",
       "    <tr>\n",
       "      <th>9</th>\n",
       "      <td>201307</td>\n",
       "      <td>Tirupati Eye Centre</td>\n",
       "      <td>C-53 C, Near Sector 33 Park, Noida</td>\n",
       "    </tr>\n",
       "    <tr>\n",
       "      <th>10</th>\n",
       "      <td>201307</td>\n",
       "      <td>Surbhi Hospital Pvt Ltd</td>\n",
       "      <td>Morna Sec-35 Morna, Noida</td>\n",
       "    </tr>\n",
       "    <tr>\n",
       "      <th>11</th>\n",
       "      <td>201302</td>\n",
       "      <td>Prayag Hospital</td>\n",
       "      <td>J-206/A1 Sector 41, Noida</td>\n",
       "    </tr>\n",
       "  </tbody>\n",
       "</table>\n",
       "</div>"
      ],
      "text/plain": [
       "    Pin_code                Hospitals  \\\n",
       "0     201301      I Care Eye Hospital   \n",
       "1     201301        Bhardwaj Hospital   \n",
       "2     201301    Noida Medicare Centre   \n",
       "3     201301           Metro Hospital   \n",
       "4     201301         Prakash Hospital   \n",
       "5     110096     Dharamshila Hospital   \n",
       "6     201307         Sumitra Hospital   \n",
       "7     110025         Alshifa Hospital   \n",
       "8     201307        Dipakshi Hospital   \n",
       "9     201307      Tirupati Eye Centre   \n",
       "10    201307  Surbhi Hospital Pvt Ltd   \n",
       "11    201302          Prayag Hospital   \n",
       "\n",
       "                                              Address  \n",
       "0              Sector 26, Near Apollo Hospital, Noida  \n",
       "1   Opp Botanical Gardens Metro Station, Sector 29...  \n",
       "2      16 C, Sector 30, Near Keerthi Gan Plaza, Noida  \n",
       "3         Vyapar Marg, Buddha Vihar, Sector 12, Noida  \n",
       "4           D-12, Sector 33, Near Iskon Temple, Noida  \n",
       "5     Dharamshila Marg, Vasundhara Enclave, New Delhi  \n",
       "6           A 119, Sector 35, Near City Center, Noida  \n",
       "7   Okhla, Abul Fazal Enclave Part 1, Jamia Nagar,...  \n",
       "8   Sector 33, Udhayan Marg, NTPC Township, Shaury...  \n",
       "9                  C-53 C, Near Sector 33 Park, Noida  \n",
       "10                          Morna Sec-35 Morna, Noida  \n",
       "11                          J-206/A1 Sector 41, Noida  "
      ]
     },
     "execution_count": 2,
     "metadata": {},
     "output_type": "execute_result"
    }
   ],
   "source": [
    "url='https://drive.google.com/file/d/1chHzhFiB4FlLxKW-IiO7p5RL5c_4HzQ1/view?usp=sharing'\n",
    "file_id = url.split('/')[-2]\n",
    "dwn_url='https://drive.google.com/uc?export=download&id=' + file_id\n",
    "url2 = requests.get(dwn_url).text\n",
    "csv_raw = io.StringIO(url2)\n",
    "df_raw = pd.read_csv(csv_raw)\n",
    "df_raw"
   ]
  },
  {
   "cell_type": "code",
   "execution_count": 3,
   "metadata": {
    "scrolled": true
   },
   "outputs": [],
   "source": [
    "#filepath = (r\"C:\\Users\\home\\Desktop\\Bootcamp\\Project\\Vaccination_center.csv\")\n",
    "#df_raw = pd.read_csv('vaccination_centre.csv')\n",
    "#df_raw"
   ]
  },
  {
   "cell_type": "markdown",
   "metadata": {},
   "source": [
    "## Loading test centre csv file "
   ]
  },
  {
   "cell_type": "code",
   "execution_count": 4,
   "metadata": {},
   "outputs": [
    {
     "data": {
      "text/html": [
       "<div>\n",
       "<style scoped>\n",
       "    .dataframe tbody tr th:only-of-type {\n",
       "        vertical-align: middle;\n",
       "    }\n",
       "\n",
       "    .dataframe tbody tr th {\n",
       "        vertical-align: top;\n",
       "    }\n",
       "\n",
       "    .dataframe thead th {\n",
       "        text-align: right;\n",
       "    }\n",
       "</style>\n",
       "<table border=\"1\" class=\"dataframe\">\n",
       "  <thead>\n",
       "    <tr style=\"text-align: right;\">\n",
       "      <th></th>\n",
       "      <th>Pincode</th>\n",
       "      <th>Centre</th>\n",
       "      <th>Address</th>\n",
       "    </tr>\n",
       "  </thead>\n",
       "  <tbody>\n",
       "    <tr>\n",
       "      <th>0</th>\n",
       "      <td>201301</td>\n",
       "      <td>Noida Covid Hospital</td>\n",
       "      <td>Sector 39, Noida</td>\n",
       "    </tr>\n",
       "    <tr>\n",
       "      <th>1</th>\n",
       "      <td>201301</td>\n",
       "      <td>CHC Badalpur</td>\n",
       "      <td>GT ROAD Badalpur</td>\n",
       "    </tr>\n",
       "    <tr>\n",
       "      <th>2</th>\n",
       "      <td>203135</td>\n",
       "      <td>PHC, Jewar</td>\n",
       "      <td>Devi Maa Mandir Raod, Jewar, GB Nagar</td>\n",
       "    </tr>\n",
       "    <tr>\n",
       "      <th>3</th>\n",
       "      <td>201301</td>\n",
       "      <td>District Combined Hospital</td>\n",
       "      <td>Maharaja Agrasen Marg, Sector 30, Noida</td>\n",
       "    </tr>\n",
       "    <tr>\n",
       "      <th>4</th>\n",
       "      <td>201301</td>\n",
       "      <td>Ssphpgti</td>\n",
       "      <td>Ssphpgti Sector 30, Noida</td>\n",
       "    </tr>\n",
       "    <tr>\n",
       "      <th>5</th>\n",
       "      <td>283101</td>\n",
       "      <td>Achhnera Junction</td>\n",
       "      <td>Achhnera Junction, Achhnera</td>\n",
       "    </tr>\n",
       "    <tr>\n",
       "      <th>6</th>\n",
       "      <td>283101</td>\n",
       "      <td>CHC AKOLA</td>\n",
       "      <td>Nagla Jairam Rd, Nagla Jairam</td>\n",
       "    </tr>\n",
       "    <tr>\n",
       "      <th>7</th>\n",
       "      <td>201304</td>\n",
       "      <td>PHC Barola</td>\n",
       "      <td>Main Barola Rd, Prahlad Colony, Sector 49, Noida</td>\n",
       "    </tr>\n",
       "    <tr>\n",
       "      <th>8</th>\n",
       "      <td>201306</td>\n",
       "      <td>PHC Bisarakh</td>\n",
       "      <td>Bisrakh Jalalpur, Greater Noida</td>\n",
       "    </tr>\n",
       "    <tr>\n",
       "      <th>9</th>\n",
       "      <td>201002</td>\n",
       "      <td>CGHS WELLNESS CENTRE</td>\n",
       "      <td>C131, Shastri Nagar, Ghaziabad</td>\n",
       "    </tr>\n",
       "    <tr>\n",
       "      <th>10</th>\n",
       "      <td>201005</td>\n",
       "      <td>ESIC HOSPITAL</td>\n",
       "      <td>2 RH/3 HIG DUPLEX, Rajendra Nagar, Ghaziabad</td>\n",
       "    </tr>\n",
       "  </tbody>\n",
       "</table>\n",
       "</div>"
      ],
      "text/plain": [
       "    Pincode                      Centre  \\\n",
       "0    201301        Noida Covid Hospital   \n",
       "1    201301                CHC Badalpur   \n",
       "2    203135                  PHC, Jewar   \n",
       "3    201301  District Combined Hospital   \n",
       "4    201301                    Ssphpgti   \n",
       "5    283101           Achhnera Junction   \n",
       "6    283101                   CHC AKOLA   \n",
       "7    201304                  PHC Barola   \n",
       "8    201306                PHC Bisarakh   \n",
       "9    201002        CGHS WELLNESS CENTRE   \n",
       "10   201005               ESIC HOSPITAL   \n",
       "\n",
       "                                             Address  \n",
       "0                                   Sector 39, Noida  \n",
       "1                                   GT ROAD Badalpur  \n",
       "2              Devi Maa Mandir Raod, Jewar, GB Nagar  \n",
       "3            Maharaja Agrasen Marg, Sector 30, Noida  \n",
       "4                          Ssphpgti Sector 30, Noida  \n",
       "5                        Achhnera Junction, Achhnera  \n",
       "6                      Nagla Jairam Rd, Nagla Jairam  \n",
       "7   Main Barola Rd, Prahlad Colony, Sector 49, Noida  \n",
       "8                    Bisrakh Jalalpur, Greater Noida  \n",
       "9                     C131, Shastri Nagar, Ghaziabad  \n",
       "10      2 RH/3 HIG DUPLEX, Rajendra Nagar, Ghaziabad  "
      ]
     },
     "execution_count": 4,
     "metadata": {},
     "output_type": "execute_result"
    }
   ],
   "source": [
    "url_test='https://drive.google.com/file/d/1e08SXFO-BNuYdMuTX0E7IqdE_6VRuavN/view?usp=share_link'\n",
    "file_id_test = url_test.split('/')[-2]\n",
    "dwn_url_test='https://drive.google.com/uc?export=download&id=' + file_id_test\n",
    "url2_test = requests.get(dwn_url_test).text\n",
    "csv_raw_test = io.StringIO(url2_test)\n",
    "df_test_raw = pd.read_csv(csv_raw_test)\n",
    "df_test_raw"
   ]
  },
  {
   "cell_type": "code",
   "execution_count": 5,
   "metadata": {
    "scrolled": true
   },
   "outputs": [],
   "source": [
    "#filepath = (r\"C:\\Users\\home\\Desktop\\Bootcamp\\Project\\test_centre.csv\")\n",
    "#df_test_raw = pd.read_csv('test_centre.csv')\n",
    "#df_test_raw"
   ]
  },
  {
   "cell_type": "markdown",
   "metadata": {},
   "source": [
    "## Loading admit hospital csv file "
   ]
  },
  {
   "cell_type": "code",
   "execution_count": 6,
   "metadata": {},
   "outputs": [
    {
     "data": {
      "text/html": [
       "<div>\n",
       "<style scoped>\n",
       "    .dataframe tbody tr th:only-of-type {\n",
       "        vertical-align: middle;\n",
       "    }\n",
       "\n",
       "    .dataframe tbody tr th {\n",
       "        vertical-align: top;\n",
       "    }\n",
       "\n",
       "    .dataframe thead th {\n",
       "        text-align: right;\n",
       "    }\n",
       "</style>\n",
       "<table border=\"1\" class=\"dataframe\">\n",
       "  <thead>\n",
       "    <tr style=\"text-align: right;\">\n",
       "      <th></th>\n",
       "      <th>Pincode</th>\n",
       "      <th>Hospital</th>\n",
       "      <th>Address</th>\n",
       "    </tr>\n",
       "  </thead>\n",
       "  <tbody>\n",
       "    <tr>\n",
       "      <th>0</th>\n",
       "      <td>201301</td>\n",
       "      <td>Bhardwaj Hospital</td>\n",
       "      <td>Opp Botanical Gardens Metro Station, Sector 29...</td>\n",
       "    </tr>\n",
       "    <tr>\n",
       "      <th>1</th>\n",
       "      <td>201302</td>\n",
       "      <td>Kailash Hospital Greater Noida</td>\n",
       "      <td>Plot No 23, Near Pari Chowk, Greater Noida</td>\n",
       "    </tr>\n",
       "    <tr>\n",
       "      <th>2</th>\n",
       "      <td>201301</td>\n",
       "      <td>Surbhi Hospital</td>\n",
       "      <td>Golf Course Road, Morna, Sector 35, Noida</td>\n",
       "    </tr>\n",
       "    <tr>\n",
       "      <th>3</th>\n",
       "      <td>122002</td>\n",
       "      <td>Park Hospital Gurgaon</td>\n",
       "      <td>Q Block, South City 2, Sohna Road, Main Sec-47...</td>\n",
       "    </tr>\n",
       "    <tr>\n",
       "      <th>4</th>\n",
       "      <td>121006</td>\n",
       "      <td>Park Hospital Faridabad</td>\n",
       "      <td>Opposite Court, J Block, Sector 10 DLF, Faridabad</td>\n",
       "    </tr>\n",
       "    <tr>\n",
       "      <th>5</th>\n",
       "      <td>121006</td>\n",
       "      <td>Sarvodaya Hospital</td>\n",
       "      <td>Near Escorts Mujesar Metro Station, Sector 7, ...</td>\n",
       "    </tr>\n",
       "  </tbody>\n",
       "</table>\n",
       "</div>"
      ],
      "text/plain": [
       "   Pincode                         Hospital  \\\n",
       "0   201301                Bhardwaj Hospital   \n",
       "1   201302  Kailash Hospital Greater Noida    \n",
       "2   201301                  Surbhi Hospital   \n",
       "3   122002            Park Hospital Gurgaon   \n",
       "4   121006          Park Hospital Faridabad   \n",
       "5   121006               Sarvodaya Hospital   \n",
       "\n",
       "                                             Address  \n",
       "0  Opp Botanical Gardens Metro Station, Sector 29...  \n",
       "1         Plot No 23, Near Pari Chowk, Greater Noida  \n",
       "2          Golf Course Road, Morna, Sector 35, Noida  \n",
       "3  Q Block, South City 2, Sohna Road, Main Sec-47...  \n",
       "4  Opposite Court, J Block, Sector 10 DLF, Faridabad  \n",
       "5  Near Escorts Mujesar Metro Station, Sector 7, ...  "
      ]
     },
     "execution_count": 6,
     "metadata": {},
     "output_type": "execute_result"
    }
   ],
   "source": [
    "url_admit='https://drive.google.com/file/d/1ChZdzt0oDZ7tzc6g3XyCCP4kmiXaMWjm/view?usp=share_link'\n",
    "file_id_admit = url_admit.split('/')[-2]\n",
    "dwn_url_admit='https://drive.google.com/uc?export=download&id=' + file_id_admit\n",
    "url2_admit = requests.get(dwn_url_admit).text\n",
    "csv_raw_admit = io.StringIO(url2_admit)\n",
    "df_admit_raw = pd.read_csv(csv_raw_admit)\n",
    "df_admit_raw"
   ]
  },
  {
   "cell_type": "code",
   "execution_count": 7,
   "metadata": {
    "scrolled": true
   },
   "outputs": [],
   "source": [
    "#filepath = (r\"C:\\Users\\home\\Desktop\\Bootcamp\\Project\\admit_hospital.csv\")\n",
    "#df_admit_raw = pd.read_csv('admit_hospital.csv')\n",
    "#df_admit_raw"
   ]
  },
  {
   "cell_type": "markdown",
   "metadata": {},
   "source": [
    "## Adding greeting input and responses "
   ]
  },
  {
   "cell_type": "code",
   "execution_count": 8,
   "metadata": {
    "scrolled": true
   },
   "outputs": [],
   "source": [
    "Greeting_input = ['hi',\n",
    "                  'hello',\n",
    "                  'good',\n",
    "                  'morning',\n",
    "                  'hey',\n",
    "                 'evening',\n",
    "                 'afternoon',\n",
    "                 'namaste']"
   ]
  },
  {
   "cell_type": "code",
   "execution_count": 9,
   "metadata": {
    "scrolled": true
   },
   "outputs": [],
   "source": [
    "Greeting_response = ['Hi',\n",
    "                     'Hello',\n",
    "                     'Hey']"
   ]
  },
  {
   "cell_type": "markdown",
   "metadata": {},
   "source": [
    "## Adding symptom inputs "
   ]
  },
  {
   "cell_type": "code",
   "execution_count": 10,
   "metadata": {
    "scrolled": true
   },
   "outputs": [],
   "source": [
    "Symptom_input = ['cough',\n",
    "                 'fever',\n",
    "                 'breathing',\n",
    "                 'difficulty',\n",
    "                 'smell',\n",
    "                 'loss',\n",
    "                 'taste',\n",
    "                 '1',\n",
    "                 '2',\n",
    "                 '3',\n",
    "                 '4']"
   ]
  },
  {
   "cell_type": "markdown",
   "metadata": {},
   "source": [
    "### Making variable and storing data about the yes and no inputs the user can give  "
   ]
  },
  {
   "cell_type": "code",
   "execution_count": 11,
   "metadata": {
    "scrolled": true
   },
   "outputs": [],
   "source": [
    "yes_input = ['yes',\n",
    "               'hain',\n",
    "               'y',\n",
    "               'haan',\n",
    "               'yeh',\n",
    "               'yep']"
   ]
  },
  {
   "cell_type": "code",
   "execution_count": 12,
   "metadata": {
    "scrolled": true
   },
   "outputs": [],
   "source": [
    "no_input = ['no',\n",
    "            'na',\n",
    "            'n',\n",
    "            'nahi']"
   ]
  },
  {
   "cell_type": "markdown",
   "metadata": {},
   "source": [
    "## Tokenizing and removing stop words"
   ]
  },
  {
   "cell_type": "code",
   "execution_count": 13,
   "metadata": {
    "scrolled": true
   },
   "outputs": [],
   "source": [
    "def extract_words(sentence):\n",
    "    '''This is to clean and tokenize words'''\n",
    "    ignore_words = ['a', 'the', 'if', 'br', 'and', 'of', 'to', 'is']\n",
    "    words = re.sub(\"[^\\w]\", \" \",  sentence).split() # this replaces all special chars with ' '\n",
    "    words_cleaned = [w.lower() for w in words if w not in ignore_words]\n",
    "    return words_cleaned"
   ]
  },
  {
   "cell_type": "markdown",
   "metadata": {},
   "source": [
    "## Defining functions"
   ]
  },
  {
   "cell_type": "markdown",
   "metadata": {},
   "source": [
    "###  Available hospital beds"
   ]
  },
  {
   "cell_type": "code",
   "execution_count": 14,
   "metadata": {
    "scrolled": true
   },
   "outputs": [],
   "source": [
    "def hospital_admitt():\n",
    "    print(\"\\n\\033[1;32;48m\")\n",
    "    pincodes = ''\n",
    "    pincod = []\n",
    "    for pin in df_admit_raw.Pincode:\n",
    "        if pin not in pincod:\n",
    "            pincod.append(pin)\n",
    "    for pinc in range (len(pincod)):\n",
    "        if len(pincod)-1 == pinc:\n",
    "            pincodes += str(pincod[pinc])\n",
    "        else:\n",
    "            pincodes += str(pincod[pinc]) + ','\n",
    "    print(\"CovHelp:\",\"Enter the pincode from : \",pincodes)\n",
    "    print(\"\\033[1;35;48m\")\n",
    "    pincode = int(input(name+\":\"))\n",
    "    df_admit = df_admit_raw[df_admit_raw.Pincode == pincode]\n",
    "    print(\"\\n\\033[1;32;48m\")\n",
    "    print(\"CovHelp:\")\n",
    "    print(df_admit.Hospital + \", \" + df_admit.Address)"
   ]
  },
  {
   "cell_type": "markdown",
   "metadata": {},
   "source": [
    "### Symptoms after vaccine "
   ]
  },
  {
   "cell_type": "code",
   "execution_count": 15,
   "metadata": {
    "scrolled": true
   },
   "outputs": [],
   "source": [
    "def after_vaccine():\n",
    "    print(\"\\n\\033[1;32;48m\")\n",
    "    print(\"CovHelp:\",\"Are you experiencing any of the following symptoms ?(you can simply write the option number)\")\n",
    "    print(\"\\t\\t1) Slight pain or readiness at the injection site\")\n",
    "    print(\"\\t\\t2) Fever/Feverish feeling\")\n",
    "    print(\"\\t\\t3) Body aches/headache\")\n",
    "    print(\"\\t\\t4) Generalized weakness\")\n",
    "    print(\"\\t\\t5) Skin rashes\")\n",
    "    print(\"\\t\\t6) None of the above\")\n",
    "    \n",
    "    print(\"\\033[1;35;48m\")\n",
    "    option_selected = input(name + \" : \")\n",
    "    if option_selected == 'None of the above' or option_selected == '6':\n",
    "        print(\"\\n\\033[1;32;48m\")\n",
    "        print (\"CovHelp:\",\"Which other symptoms you have?(if no then write null)\")\n",
    "        print(\"\\033[1;35;48m\")\n",
    "        option_selected2 = input(name + \" : \")\n",
    "        if option_selected2 =='null':\n",
    "            run = False\n",
    "        else:\n",
    "            print(\"\\n\\033[1;32;48m\")\n",
    "            print(\"CovHelp:\",\"It is only indicating that the vaccine is properly injected and it is building the imunity\")\n",
    "    else:\n",
    "        main_loop()"
   ]
  },
  {
   "cell_type": "markdown",
   "metadata": {},
   "source": [
    "### Checking the oxygen level "
   ]
  },
  {
   "cell_type": "code",
   "execution_count": 24,
   "metadata": {
    "scrolled": true
   },
   "outputs": [],
   "source": [
    " def oxygen_level(Infected1):\n",
    "    #Infected1 = Infected1\n",
    "    print(\"\\n\\033[1;32;48m\")\n",
    "    print(\"CovHelp:\",\"What is your SpO2 (oxygen) level?\")\n",
    "    \n",
    "    print(\"\\033[1;35;48m\")\n",
    "    Oxygen_level = int(input(name + \" : \"))\n",
    "    \n",
    "    if Oxygen_level < 90 and Oxygen_level > 80:\n",
    "        print(\"\\n\\033[1;32;48m\")\n",
    "        print(\"CovHelp:\",\"You need to get admitted to the hospital as your oxygen level is less\")\n",
    "        print(\"CovHelp:\",\"Would you like to know hospitals in your area? (Yes/No)\")\n",
    "        print(\"\\033[1;35;48m\")\n",
    "        Hospital_admit = input(name + \" : \")\n",
    "        word_list = extract_words(Hospital_admit)\n",
    "        for word in word_list:\n",
    "            if word in yes_input:\n",
    "                hospital_admitt()\n",
    "            elif word in no_input:\n",
    "                if Infected1 != '0':\n",
    "                    print(\"\\n\\033[1;32;48m\")\n",
    "                    pincodes = ''\n",
    "                    pincod = []\n",
    "                    for pin in df_test_raw.Pincode:\n",
    "                        if pin not in pincod:\n",
    "                            pincod.append(pin)\n",
    "                    for pinc in range(len(pincod)):\n",
    "                        if len(pincod)-1 == pinc:\n",
    "                            pincodes += str(pincod[pinc])\n",
    "                        else:\n",
    "                            pincodes += str(pincod[pinc]) + ','\n",
    "                    print('CovHelp: Enter pincode to know test centre leave blank to skip: ')\n",
    "                    print('CovHelp: Choose from the following pin code : ',pincodes)\n",
    "                    print(\"\\033[1;35;48m\")\n",
    "                    pincode = input((name + \" : \"))                \n",
    "                    if pincode != '':\n",
    "                        pincode1 = int(pincode)\n",
    "                        print(\"\\n\\033[1;32;48m\")\n",
    "                        print('CovHelp:')\n",
    "                        df_test = df_test_raw[df_test_raw.Pincode == pincode1]\n",
    "                        print(df_test.Centre + \", \" + df_test.Address)  \n",
    "            else:\n",
    "                print(\"\\n\\033[1;32;48m\")\n",
    "                print(\"CovHelp:\",\"Invalid input\")\n",
    "                oxygen_level(Infected1)\n",
    "                \n",
    "    elif Oxygen_level <= 80:\n",
    "        print(\"\\n\\033[1;32;48m\")\n",
    "        print(\"CovHelp:\",\"You need to get admitted to the hospital urgently, as your oxygen level is very low\")\n",
    "        hospital_admitt()\n",
    "    else:\n",
    "        print(\"\\n\\033[1;32;48m\")\n",
    "        print(\"CovHelp:\",\"You have a safe oxygen level\")\n",
    "        if Infected1 != '0':\n",
    "            print(\"\\n\\033[1;32;48m\")\n",
    "            pincodes = ''\n",
    "            pincod = []\n",
    "            for pin in df_test_raw.Pincode:\n",
    "                if pin not in pincod:\n",
    "                    pincod.append(pin)\n",
    "            for pinc in range (len(pincod)):\n",
    "                if len(pincod)-1 == pinc:\n",
    "                    pincodes += str(pincod[pinc])\n",
    "                else:\n",
    "                    pincodes += str(pincod[pinc]) + ','\n",
    "            print(\"CovHelp: Enter pincode to know test centre leave blank to skip: \")\n",
    "            print('CovHelp: Choose from the following pin code : ',pincodes)\n",
    "            print(\"\\033[1;35;48m\")\n",
    "            pincode = input((name + \" : \"))\n",
    "            if pincode != '':\n",
    "                pincode1 = int(pincode)\n",
    "                print(\"\\n\\033[1;32;48m\")\n",
    "                print('CovHelp:')\n",
    "                df_test = df_test_raw[df_test_raw.Pincode == pincode1]\n",
    "                print(df_test.Centre + \", \" + df_test.Address)"
   ]
  },
  {
   "cell_type": "markdown",
   "metadata": {},
   "source": [
    "### Asking question related to symptoms "
   ]
  },
  {
   "cell_type": "code",
   "execution_count": 17,
   "metadata": {
    "scrolled": true
   },
   "outputs": [],
   "source": [
    "def main_loop():\n",
    "    print(\"\\n\\033[1;32;48m\")\n",
    "    print(\"CovHelp:\",\"Are you experiencing any of the following symptoms ?(You can simply write the option number)\")\n",
    "    print(\"\\t\\t1) Cough\")\n",
    "    print(\"\\t\\t2) Fever\")\n",
    "    print(\"\\t\\t3) Difficulty in Breathing\")\n",
    "    print(\"\\t\\t4) loss of senses of smell and taste\")\n",
    "    print(\"\\t\\t5) None of the above\")\n",
    "    \n",
    "    print(\"\\033[1;35;48m\")\n",
    "    Answer = input(name + \" : \")\n",
    "    word_list = extract_words(Answer)\n",
    "        \n",
    "    for word in word_list:\n",
    "            if word in Symptom_input:\n",
    "                Infected1 = '1'\n",
    "            else:\n",
    "                Infected1 = '0'\n",
    "    oxygen_level(Infected1)"
   ]
  },
  {
   "cell_type": "markdown",
   "metadata": {},
   "source": [
    "### Checking the vaccination eligibility "
   ]
  },
  {
   "cell_type": "code",
   "execution_count": 18,
   "metadata": {
    "scrolled": true
   },
   "outputs": [],
   "source": [
    "def vaccine(age):\n",
    "    if age >= 14 :\n",
    "        print(\"\\n\\033[1;32;48m\")\n",
    "        print(\"CovHelp:\",\"Good news! You are eligible for vaccination. Please get vaccinated and help to end virus spread.\")\n",
    "        print(\"CovHelp:\",\"Have you got your vaccination shot? (Yes/No)\")\n",
    "        \n",
    "        print(\"\\033[1;35;48m\")\n",
    "        vaccinated = input((name + \" : \"))\n",
    "        word_list = extract_words(vaccinated)\n",
    "        for word in word_list:\n",
    "            if word in yes_input:\n",
    "                print(\"\\n\\033[1;32;48m\")\n",
    "                print(\"CovHelp:\",\"Great work\")\n",
    "                print(\"CovHelp:\",\"How many days before you got vaccinated?\")\n",
    "                print(\"\\033[1;35;48m\")\n",
    "                days = int(input(name + \" : \"))\n",
    "                if days <= 3:\n",
    "                     after_vaccine()\n",
    "                elif days > 3:\n",
    "                    main_loop()\n",
    "            elif word in no_input:\n",
    "                print(\"\\n\\033[1;32;48m\")\n",
    "                print (\"CovHelp:\",\"Would you like to know nearest vaccination centre? (Yes/No)\")\n",
    "                print(\"\\033[1;35;48m\")\n",
    "                details = input((name + \" : \"))\n",
    "                word_list = extract_words(details)\n",
    "                for word in word_list:\n",
    "                    if word in yes_input:\n",
    "                        print(\"\\n\\033[1;32;48m\")\n",
    "                        pincodes = ''\n",
    "                        pincod = []\n",
    "                        for pin in df_raw.Pin_code:\n",
    "                            if pin not in pincod:\n",
    "                                pincod.append(pin)\n",
    "                        for pinc in range (len(pincod)):\n",
    "                            if len(pincod)-1 == pinc:\n",
    "                                pincodes += str(pincod[pinc])\n",
    "                            else:\n",
    "                                pincodes += str(pincod[pinc]) + ','\n",
    "                        print('CovHelp: Enter your pincode from :',pincodes)\n",
    "                        print(\"\\033[1;35;48m\")\n",
    "                        pincode = int(input((name + \" : \")))\n",
    "                        print(\"\\n\\033[1;32;48m\")\n",
    "                        print('CovHelp:')\n",
    "                        df = df_raw[df_raw.Pin_code == pincode]\n",
    "                        print(df.Hospitals + \", \" + df.Address)\n",
    "                    elif word in no_input:\n",
    "                        main_loop()\n",
    "                        \n",
    "    else:\n",
    "        main_loop()"
   ]
  },
  {
   "cell_type": "markdown",
   "metadata": {},
   "source": [
    "## Main chatbot program"
   ]
  },
  {
   "cell_type": "code",
   "execution_count": 25,
   "metadata": {
    "scrolled": true
   },
   "outputs": [
    {
     "name": "stdout",
     "output_type": "stream",
     "text": [
      "\n",
      "\u001b[1;32;48m\n",
      "Welcome to CovHelp (Covid Helpline)\n",
      "CovHelp: Hello\n",
      "\u001b[1;35;48m\n",
      "Good morning\n",
      "\n",
      "\u001b[1;32;48m\n",
      "CovHelp: Enter your name : Rushil Goyal\n",
      "CovHelp: Enter your age : 16\n",
      "\n",
      "\u001b[1;32;48m\n",
      "CovHelp: Good news! You are eligible for vaccination. Please get vaccinated and help to end virus spread.\n",
      "CovHelp: Have you got your vaccination shot? (Yes/No)\n",
      "\u001b[1;35;48m\n",
      "Rushil Goyal : yes\n",
      "\n",
      "\u001b[1;32;48m\n",
      "CovHelp: Great work\n",
      "CovHelp: How many days before you got vaccinated?\n",
      "\u001b[1;35;48m\n",
      "Rushil Goyal : 10\n",
      "\n",
      "\u001b[1;32;48m\n",
      "CovHelp: Are you experiencing any of the following symptoms ?(You can simply write the option number)\n",
      "\t\t1) Cough\n",
      "\t\t2) Fever\n",
      "\t\t3) Difficulty in Breathing\n",
      "\t\t4) loss of senses of smell and taste\n",
      "\t\t5) None of the above\n",
      "\u001b[1;35;48m\n",
      "Rushil Goyal : 1,2\n",
      "\n",
      "\u001b[1;32;48m\n",
      "CovHelp: What is your SpO2 (oxygen) level?\n",
      "\u001b[1;35;48m\n",
      "Rushil Goyal : 90\n",
      "\n",
      "\u001b[1;32;48m\n",
      "CovHelp: You have a safe oxygen level\n",
      "\n",
      "\u001b[1;32;48m\n",
      "CovHelp: Enter pincode to know test centre leave blank to skip: \n",
      "CovHelp: Choose from the following pin code :  201301,203135,283101,201304,201306,201002,201005\n",
      "\u001b[1;35;48m\n",
      "Rushil Goyal : 283101\n",
      "\n",
      "\u001b[1;32;48m\n",
      "CovHelp:\n",
      "5    Achhnera Junction, Achhnera Junction, Achhnera\n",
      "6          CHC AKOLA, Nagla Jairam Rd, Nagla Jairam\n",
      "dtype: object\n",
      "\n",
      "\u001b[1;32;48m\n",
      "CovHelp: Thank you for using this service\n",
      "\n",
      "\u001b[1;32;48m\n"
     ]
    },
    {
     "ename": "KeyboardInterrupt",
     "evalue": "Interrupted by user",
     "output_type": "error",
     "traceback": [
      "\u001b[1;31m---------------------------------------------------------------------------\u001b[0m",
      "\u001b[1;31mKeyboardInterrupt\u001b[0m                         Traceback (most recent call last)",
      "Cell \u001b[1;32mIn[25], line 18\u001b[0m\n\u001b[0;32m     15\u001b[0m \u001b[38;5;28;01mif\u001b[39;00m word \u001b[38;5;129;01min\u001b[39;00m Greeting_input:\n\u001b[0;32m     16\u001b[0m     \u001b[38;5;28mprint\u001b[39m(\u001b[38;5;124m\"\u001b[39m\u001b[38;5;130;01m\\n\u001b[39;00m\u001b[38;5;130;01m\\033\u001b[39;00m\u001b[38;5;124m[1;32;48m\u001b[39m\u001b[38;5;124m\"\u001b[39m)\n\u001b[1;32m---> 18\u001b[0m     name \u001b[38;5;241m=\u001b[39m \u001b[38;5;28;43minput\u001b[39;49m\u001b[43m \u001b[49m\u001b[43m(\u001b[49m\u001b[38;5;124;43m'\u001b[39;49m\u001b[38;5;124;43mCovHelp: Enter your name : \u001b[39;49m\u001b[38;5;124;43m'\u001b[39;49m\u001b[43m)\u001b[49m\n\u001b[0;32m     19\u001b[0m     age \u001b[38;5;241m=\u001b[39m \u001b[38;5;28mint\u001b[39m(\u001b[38;5;28minput\u001b[39m (\u001b[38;5;124m'\u001b[39m\u001b[38;5;124mCovHelp: Enter your age : \u001b[39m\u001b[38;5;124m'\u001b[39m))\n\u001b[0;32m     20\u001b[0m     first \u001b[38;5;241m=\u001b[39m \u001b[38;5;28;01mFalse\u001b[39;00m\n",
      "File \u001b[1;32m~\\anaconda3\\lib\\site-packages\\ipykernel\\kernelbase.py:1175\u001b[0m, in \u001b[0;36mKernel.raw_input\u001b[1;34m(self, prompt)\u001b[0m\n\u001b[0;32m   1171\u001b[0m \u001b[38;5;28;01mif\u001b[39;00m \u001b[38;5;129;01mnot\u001b[39;00m \u001b[38;5;28mself\u001b[39m\u001b[38;5;241m.\u001b[39m_allow_stdin:\n\u001b[0;32m   1172\u001b[0m     \u001b[38;5;28;01mraise\u001b[39;00m StdinNotImplementedError(\n\u001b[0;32m   1173\u001b[0m         \u001b[38;5;124m\"\u001b[39m\u001b[38;5;124mraw_input was called, but this frontend does not support input requests.\u001b[39m\u001b[38;5;124m\"\u001b[39m\n\u001b[0;32m   1174\u001b[0m     )\n\u001b[1;32m-> 1175\u001b[0m \u001b[38;5;28;01mreturn\u001b[39;00m \u001b[38;5;28;43mself\u001b[39;49m\u001b[38;5;241;43m.\u001b[39;49m\u001b[43m_input_request\u001b[49m\u001b[43m(\u001b[49m\n\u001b[0;32m   1176\u001b[0m \u001b[43m    \u001b[49m\u001b[38;5;28;43mstr\u001b[39;49m\u001b[43m(\u001b[49m\u001b[43mprompt\u001b[49m\u001b[43m)\u001b[49m\u001b[43m,\u001b[49m\n\u001b[0;32m   1177\u001b[0m \u001b[43m    \u001b[49m\u001b[38;5;28;43mself\u001b[39;49m\u001b[38;5;241;43m.\u001b[39;49m\u001b[43m_parent_ident\u001b[49m\u001b[43m[\u001b[49m\u001b[38;5;124;43m\"\u001b[39;49m\u001b[38;5;124;43mshell\u001b[39;49m\u001b[38;5;124;43m\"\u001b[39;49m\u001b[43m]\u001b[49m\u001b[43m,\u001b[49m\n\u001b[0;32m   1178\u001b[0m \u001b[43m    \u001b[49m\u001b[38;5;28;43mself\u001b[39;49m\u001b[38;5;241;43m.\u001b[39;49m\u001b[43mget_parent\u001b[49m\u001b[43m(\u001b[49m\u001b[38;5;124;43m\"\u001b[39;49m\u001b[38;5;124;43mshell\u001b[39;49m\u001b[38;5;124;43m\"\u001b[39;49m\u001b[43m)\u001b[49m\u001b[43m,\u001b[49m\n\u001b[0;32m   1179\u001b[0m \u001b[43m    \u001b[49m\u001b[43mpassword\u001b[49m\u001b[38;5;241;43m=\u001b[39;49m\u001b[38;5;28;43;01mFalse\u001b[39;49;00m\u001b[43m,\u001b[49m\n\u001b[0;32m   1180\u001b[0m \u001b[43m\u001b[49m\u001b[43m)\u001b[49m\n",
      "File \u001b[1;32m~\\anaconda3\\lib\\site-packages\\ipykernel\\kernelbase.py:1217\u001b[0m, in \u001b[0;36mKernel._input_request\u001b[1;34m(self, prompt, ident, parent, password)\u001b[0m\n\u001b[0;32m   1214\u001b[0m             \u001b[38;5;28;01mbreak\u001b[39;00m\n\u001b[0;32m   1215\u001b[0m \u001b[38;5;28;01mexcept\u001b[39;00m \u001b[38;5;167;01mKeyboardInterrupt\u001b[39;00m:\n\u001b[0;32m   1216\u001b[0m     \u001b[38;5;66;03m# re-raise KeyboardInterrupt, to truncate traceback\u001b[39;00m\n\u001b[1;32m-> 1217\u001b[0m     \u001b[38;5;28;01mraise\u001b[39;00m \u001b[38;5;167;01mKeyboardInterrupt\u001b[39;00m(\u001b[38;5;124m\"\u001b[39m\u001b[38;5;124mInterrupted by user\u001b[39m\u001b[38;5;124m\"\u001b[39m) \u001b[38;5;28;01mfrom\u001b[39;00m \u001b[38;5;28mNone\u001b[39m\n\u001b[0;32m   1218\u001b[0m \u001b[38;5;28;01mexcept\u001b[39;00m \u001b[38;5;167;01mException\u001b[39;00m:\n\u001b[0;32m   1219\u001b[0m     \u001b[38;5;28mself\u001b[39m\u001b[38;5;241m.\u001b[39mlog\u001b[38;5;241m.\u001b[39mwarning(\u001b[38;5;124m\"\u001b[39m\u001b[38;5;124mInvalid Message:\u001b[39m\u001b[38;5;124m\"\u001b[39m, exc_info\u001b[38;5;241m=\u001b[39m\u001b[38;5;28;01mTrue\u001b[39;00m)\n",
      "\u001b[1;31mKeyboardInterrupt\u001b[0m: Interrupted by user"
     ]
    }
   ],
   "source": [
    "name = ''\n",
    "vaccinated = ''\n",
    "age = 0\n",
    "first = True\n",
    "if first :\n",
    "    print(\"\\n\\033[1;32;48m\")\n",
    "    print (\"Welcome to CovHelp (Covid Helpline)\")\n",
    "    print (\"CovHelp: \"+ random.choice(Greeting_response))\n",
    "    print(\"\\033[1;35;48m\")\n",
    "    greet = input()\n",
    "\n",
    "    word_list = extract_words(greet)\n",
    "\n",
    "    for word in word_list:\n",
    "        if word in Greeting_input:\n",
    "            print(\"\\n\\033[1;32;48m\")\n",
    "\n",
    "            name = input ('CovHelp: Enter your name : ')\n",
    "            age = int(input ('CovHelp: Enter your age : '))\n",
    "            first = False\n",
    "            vaccine(age)\n",
    "            print(\"\\n\\033[1;32;48m\")\n",
    "            print(\"CovHelp: Thank you for using this service\")\n",
    "else:\n",
    "    vaccine(age)\n",
    "    print(\"\\n\\033[1;32;48m\")\n",
    "    print(\"CovHelp: Thank you for using this service\")   \n"
   ]
  }
 ],
 "metadata": {
  "kernelspec": {
   "display_name": "Python 3 (ipykernel)",
   "language": "python",
   "name": "python3"
  },
  "language_info": {
   "codemirror_mode": {
    "name": "ipython",
    "version": 3
   },
   "file_extension": ".py",
   "mimetype": "text/x-python",
   "name": "python",
   "nbconvert_exporter": "python",
   "pygments_lexer": "ipython3",
   "version": "3.10.9"
  }
 },
 "nbformat": 4,
 "nbformat_minor": 4
}
